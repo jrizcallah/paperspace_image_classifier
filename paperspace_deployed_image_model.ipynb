{
 "cells": [
  {
   "cell_type": "markdown",
   "id": "finite-small",
   "metadata": {},
   "source": [
    "# Deploying a Model on Paperspace\n",
    "\n",
    "In this notebook, an image classification model will be created to classify hand-written numbers, like the mnist dataset. This model will then be deployed using Paperspace.\n",
    "\n",
    "It all follows from these blog posts: \n",
    "\n",
    "https://blog.paperspace.com/deploying-deep-learning-models-flask-web-python/\n",
    "https://blog.paperspace.com/deploying-deep-learning-models-part-ii-hosting-on-paperspace/"
   ]
  },
  {
   "cell_type": "markdown",
   "id": "hearing-nomination",
   "metadata": {},
   "source": [
    "## Import Modules"
   ]
  },
  {
   "cell_type": "code",
   "execution_count": 2,
   "id": "caring-cassette",
   "metadata": {},
   "outputs": [],
   "source": [
    "import tensorflow as tf\n",
    "from tensorflow.keras.datasets import mnist\n",
    "from tensorflow.keras import backend as K"
   ]
  },
  {
   "cell_type": "markdown",
   "id": "demonstrated-career",
   "metadata": {},
   "source": [
    "## Define Hyperparameters"
   ]
  },
  {
   "cell_type": "code",
   "execution_count": 3,
   "id": "cultural-hypothesis",
   "metadata": {},
   "outputs": [],
   "source": [
    "num_classes = 10\n",
    "batch_size = 128\n",
    "epochs=12"
   ]
  },
  {
   "cell_type": "markdown",
   "id": "romance-attendance",
   "metadata": {},
   "source": [
    "## Load Images"
   ]
  },
  {
   "cell_type": "code",
   "execution_count": 21,
   "id": "promising-neighbor",
   "metadata": {},
   "outputs": [],
   "source": [
    "# resolution\n",
    "img_rows, img_cols = 28, 28\n",
    "\n",
    "# load data\n",
    "(x_train, y_train), (x_test, y_test) = mnist.load_data()"
   ]
  },
  {
   "cell_type": "markdown",
   "id": "natural-marathon",
   "metadata": {},
   "source": [
    "## Preprocess Data"
   ]
  },
  {
   "cell_type": "code",
   "execution_count": 22,
   "id": "optimum-boulder",
   "metadata": {},
   "outputs": [],
   "source": [
    "if K.image_data_format() == \"channels_first\":\n",
    "    x_train = x_train.reshape(x_train.shape[0], 1, img_rows, img_cols)\n",
    "    x_test = x_test.reshape(x_test.shape[0], 1, img_rows, img_cols)\n",
    "    input_shape = (1, img_rows, img_cols)\n",
    "else:\n",
    "    x_train = x_train.reshape(x_train.shape[0], img_rows, img_cols, 1)\n",
    "    x_test = x_test.reshape(x_test.shape[0], img_rows, img_cols, 1)\n",
    "    input_shape = (img_rows, img_cols, 1)"
   ]
  },
  {
   "cell_type": "code",
   "execution_count": 23,
   "id": "rising-trail",
   "metadata": {},
   "outputs": [
    {
     "name": "stdout",
     "output_type": "stream",
     "text": [
      "x_train shape:  (60000, 28, 28, 1)\n",
      "x_test shape:  (10000, 28, 28, 1)\n"
     ]
    }
   ],
   "source": [
    "x_train = x_train.astype('float32')\n",
    "x_test = x_test.astype('float32')\n",
    "\n",
    "x_train /= 255\n",
    "x_test /= 255\n",
    "\n",
    "print(\"x_train shape: \", x_train.shape)\n",
    "print(\"x_test shape: \", x_test.shape)"
   ]
  },
  {
   "cell_type": "code",
   "execution_count": 24,
   "id": "selective-action",
   "metadata": {},
   "outputs": [],
   "source": [
    "y_train = tf.keras.utils.to_categorical(y_train, num_classes)\n",
    "y_test = tf.keras.utils.to_categorical(y_test, num_classes)"
   ]
  },
  {
   "cell_type": "markdown",
   "id": "invalid-designation",
   "metadata": {},
   "source": [
    "## Define Model Architecture"
   ]
  },
  {
   "cell_type": "code",
   "execution_count": 25,
   "id": "interesting-wallet",
   "metadata": {},
   "outputs": [],
   "source": [
    "model = tf.keras.models.Sequential([\n",
    "    tf.keras.layers.Conv2D(32, kernel_size=(3,3), activation=\"relu\", \n",
    "                          input_shape=input_shape),\n",
    "    tf.keras.layers.Conv2D(64, kernel_size=(3,3), activation=\"relu\"),\n",
    "    tf.keras.layers.MaxPooling2D(pool_size=(2,2)),\n",
    "    tf.keras.layers.Dropout(0.25),\n",
    "    tf.keras.layers.Flatten(),\n",
    "    tf.keras.layers.Dense(128, activation='relu'),\n",
    "    tf.keras.layers.Dropout(0.5),\n",
    "    tf.keras.layers.Dense(num_classes, activation='softmax')\n",
    "])\n",
    "\n",
    "model.compile(optimizer = tf.keras.optimizers.Adadelta(),\n",
    "             loss = tf.keras.losses.categorical_crossentropy,\n",
    "             metrics=['accuracy'])"
   ]
  },
  {
   "cell_type": "markdown",
   "id": "packed-linux",
   "metadata": {},
   "source": [
    "## Training"
   ]
  },
  {
   "cell_type": "code",
   "execution_count": 26,
   "id": "senior-champagne",
   "metadata": {},
   "outputs": [
    {
     "name": "stdout",
     "output_type": "stream",
     "text": [
      "Epoch 1/12\n",
      "469/469 [==============================] - 41s 88ms/step - loss: 2.3006 - accuracy: 0.1041 - val_loss: 2.2489 - val_accuracy: 0.2231\n",
      "Epoch 2/12\n",
      "469/469 [==============================] - 41s 87ms/step - loss: 2.2419 - accuracy: 0.1943 - val_loss: 2.1728 - val_accuracy: 0.4072\n",
      "Epoch 3/12\n",
      "469/469 [==============================] - 40s 86ms/step - loss: 2.1677 - accuracy: 0.3113 - val_loss: 2.0691 - val_accuracy: 0.6146\n",
      "Epoch 4/12\n",
      "469/469 [==============================] - 40s 86ms/step - loss: 2.0647 - accuracy: 0.4223 - val_loss: 1.9278 - val_accuracy: 0.6923\n",
      "Epoch 5/12\n",
      "469/469 [==============================] - 40s 86ms/step - loss: 1.9340 - accuracy: 0.5029 - val_loss: 1.7473 - val_accuracy: 0.7384\n",
      "Epoch 6/12\n",
      "469/469 [==============================] - 42s 89ms/step - loss: 1.7651 - accuracy: 0.5641 - val_loss: 1.5366 - val_accuracy: 0.7639\n",
      "Epoch 7/12\n",
      "469/469 [==============================] - 41s 86ms/step - loss: 1.5780 - accuracy: 0.6046 - val_loss: 1.3218 - val_accuracy: 0.7866\n",
      "Epoch 8/12\n",
      "469/469 [==============================] - 39s 84ms/step - loss: 1.4029 - accuracy: 0.6326 - val_loss: 1.1294 - val_accuracy: 0.8042\n",
      "Epoch 9/12\n",
      "469/469 [==============================] - 39s 84ms/step - loss: 1.2565 - accuracy: 0.6597 - val_loss: 0.9712 - val_accuracy: 0.8185\n",
      "Epoch 10/12\n",
      "469/469 [==============================] - 40s 85ms/step - loss: 1.1334 - accuracy: 0.6806 - val_loss: 0.8501 - val_accuracy: 0.8298\n",
      "Epoch 11/12\n",
      "469/469 [==============================] - 40s 85ms/step - loss: 1.0328 - accuracy: 0.7031 - val_loss: 0.7578 - val_accuracy: 0.8401\n",
      "Epoch 12/12\n",
      "469/469 [==============================] - 39s 84ms/step - loss: 0.9548 - accuracy: 0.7179 - val_loss: 0.6871 - val_accuracy: 0.8474\n"
     ]
    },
    {
     "data": {
      "text/plain": [
       "<tensorflow.python.keras.callbacks.History at 0x7ffb4580cf10>"
      ]
     },
     "execution_count": 26,
     "metadata": {},
     "output_type": "execute_result"
    }
   ],
   "source": [
    "model.fit(x_train, y_train, batch_size=batch_size, epochs=epochs,verbose=1,\n",
    "          validation_data=(x_test,y_test))"
   ]
  },
  {
   "cell_type": "markdown",
   "id": "stupid-train",
   "metadata": {},
   "source": [
    "## Evaluate the Model"
   ]
  },
  {
   "cell_type": "code",
   "execution_count": 28,
   "id": "continuous-lindsay",
   "metadata": {},
   "outputs": [
    {
     "name": "stdout",
     "output_type": "stream",
     "text": [
      "Test Loss:  0.687073826789856\n",
      "Test Accuracy:  0.8474000096321106\n"
     ]
    }
   ],
   "source": [
    "score = model.evaluate(x_test, y_test, verbose=0)\n",
    "print(\"Test Loss: \", score[0])\n",
    "print(\"Test Accuracy: \", score[1])"
   ]
  },
  {
   "cell_type": "markdown",
   "id": "foreign-ambassador",
   "metadata": {},
   "source": [
    "## Save the Model"
   ]
  },
  {
   "cell_type": "code",
   "execution_count": 29,
   "id": "democratic-column",
   "metadata": {},
   "outputs": [],
   "source": [
    "# save model architecture\n",
    "model_json = model.to_json()\n",
    "with open(\"model.json\", \"w\") as json_file:\n",
    "    json_file.write(model_json)\n",
    "\n",
    "# save model weights\n",
    "model.save_weights(\"model.h5\")"
   ]
  },
  {
   "cell_type": "markdown",
   "id": "fatal-glenn",
   "metadata": {},
   "source": [
    "## Load model"
   ]
  },
  {
   "cell_type": "code",
   "execution_count": 33,
   "id": "answering-aggregate",
   "metadata": {},
   "outputs": [
    {
     "name": "stdout",
     "output_type": "stream",
     "text": [
      "Loaded Model from Disk\n"
     ]
    }
   ],
   "source": [
    "# load architecture\n",
    "json_file = open(\"model.json\", \"r\")\n",
    "loaded_model_json = json_file.read()\n",
    "json_file.close()\n",
    "\n",
    "# get model from json_file\n",
    "loaded_model = tf.keras.models.model_from_json(loaded_model_json)\n",
    "\n",
    "# load weights\n",
    "loaded_model.load_weights(\"model.h5\")\n",
    "print(\"Loaded Model from Disk\")\n",
    "\n",
    "loaded_model.compile(loss='categorical_crossentropy',\n",
    "                      optimizer=\"adam\",\n",
    "                      metrics=['accuracy'])"
   ]
  },
  {
   "cell_type": "markdown",
   "id": "adult-residence",
   "metadata": {},
   "source": [
    "## Create Flask App to Serve the Model\n",
    "\n",
    "The Flask app will be called `app.py` and is a separate file. The code that appears in that file is below. No need to run the following cell."
   ]
  },
  {
   "cell_type": "code",
   "execution_count": 1,
   "id": "small-pocket",
   "metadata": {},
   "outputs": [
    {
     "name": "stdout",
     "output_type": "stream",
     "text": [
      "Loaded Model from Disk\n",
      " * Serving Flask app \"__main__\" (lazy loading)\n",
      " * Environment: production\n",
      "\u001b[31m   WARNING: This is a development server. Do not use it in a production deployment.\u001b[0m\n",
      "\u001b[2m   Use a production WSGI server instead.\u001b[0m\n",
      " * Debug mode: on\n"
     ]
    },
    {
     "name": "stderr",
     "output_type": "stream",
     "text": [
      " * Running on http://127.0.0.1:8000/ (Press CTRL+C to quit)\n",
      " * Restarting with stat\n"
     ]
    },
    {
     "ename": "SystemExit",
     "evalue": "1",
     "output_type": "error",
     "traceback": [
      "An exception has occurred, use %tb to see the full traceback.\n",
      "\u001b[0;31mSystemExit\u001b[0m\u001b[0;31m:\u001b[0m 1\n"
     ]
    },
    {
     "name": "stderr",
     "output_type": "stream",
     "text": [
      "/Users/johnrizcallah/opt/anaconda3/envs/tf/lib/python3.8/site-packages/IPython/core/interactiveshell.py:3435: UserWarning: To exit: use 'exit', 'quit', or Ctrl-D.\n",
      "  warn(\"To exit: use 'exit', 'quit', or Ctrl-D.\", stacklevel=1)\n"
     ]
    }
   ],
   "source": [
    "from flask import Flask, render_template, request\n",
    "from skimage.io import imsave, imread\n",
    "from skimage.transform import resize\n",
    "import numpy as numpy\n",
    "import tensorflow.keras.models\n",
    "import re\n",
    "import sys\n",
    "import os\n",
    "import base64\n",
    "sys.path.append(os.path.abspath(\"./model\"))\n",
    "from load import *\n",
    "\n",
    "global graph, model\n",
    "\n",
    "model, graph = init()\n",
    "\n",
    "app = Flask(__name__)\n",
    "\n",
    "@app.route('/')\n",
    "def index_view():\n",
    "\treturn render_template('index.html')\n",
    "\n",
    "def convert_image(imgData1):\n",
    "\timgstr = re.search(b'base64,(.*)', imgdata1).group(1)\n",
    "\twith open('output.png', 'wb') as output:\n",
    "\t\toutput.write(base64.b64decode(imgstr))\n",
    "\n",
    "@app.route('/predict/', methods=['GET', 'POST'])\n",
    "def predict():\n",
    "\timgDate - request.get_data()\n",
    "\tconvertImage(imgData)\n",
    "\tx = imread('output.png', mode='L')\n",
    "\tx = np.invert(x)\n",
    "\tx = resize(x, (28,28))\n",
    "\tx = x.reshape(1, 28, 28, 1)\n",
    "\n",
    "\twith graph.as_default():\n",
    "\t\tout = model.predict(x)\n",
    "\t\tprint(out)\n",
    "\t\tprint(np.argmax(out, axis=1))\n",
    "\n",
    "\t\tresponse = np.array_str(np.argmax(out, axis=1))\n",
    "\t\treturn response\n",
    "\n",
    "if __name__ == '__main__':\n",
    "\tapp.run(debug=True, port=8000)"
   ]
  },
  {
   "cell_type": "code",
   "execution_count": null,
   "id": "involved-divide",
   "metadata": {},
   "outputs": [],
   "source": []
  }
 ],
 "metadata": {
  "kernelspec": {
   "display_name": "Python 3",
   "language": "python",
   "name": "python3"
  },
  "language_info": {
   "codemirror_mode": {
    "name": "ipython",
    "version": 3
   },
   "file_extension": ".py",
   "mimetype": "text/x-python",
   "name": "python",
   "nbconvert_exporter": "python",
   "pygments_lexer": "ipython3",
   "version": "3.8.5"
  }
 },
 "nbformat": 4,
 "nbformat_minor": 5
}
